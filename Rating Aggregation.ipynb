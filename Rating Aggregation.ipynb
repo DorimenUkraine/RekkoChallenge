{
 "cells": [
  {
   "cell_type": "markdown",
   "metadata": {},
   "source": [
    "# Подготовим агрегированный рейтинг по всем интеракциям: транзакциям, добавлениям в закладки, проставлению рейтинга."
   ]
  },
  {
   "cell_type": "code",
   "execution_count": null,
   "metadata": {},
   "outputs": [],
   "source": [
    "import pandas as pd\n",
    "import os\n",
    "import numpy as np\n",
    "import json\n",
    "import math\n",
    "from tqdm import tqdm\n",
    "from scipy import sparse as sp\n",
    "\n",
    "from sklearn.model_selection import train_test_split\n",
    "\n",
    "%matplotlib inline"
   ]
  },
  {
   "cell_type": "code",
   "execution_count": null,
   "metadata": {},
   "outputs": [],
   "source": [
    "DATA_PATH = \"data\""
   ]
  },
  {
   "cell_type": "markdown",
   "metadata": {},
   "source": [
    "# Catalog"
   ]
  },
  {
   "cell_type": "code",
   "execution_count": null,
   "metadata": {},
   "outputs": [],
   "source": [
    "with open(os.path.join(DATA_PATH, 'catalogue.json'), 'r') as f:\n",
    "    catalogue = json.load(f)\n",
    "    \n",
    "catalog = pd.DataFrame({int(k): v for k, v in catalogue.items()}).transpose()\n",
    "\n",
    "for feature in [\"purchase\", \"rent\", \"subscription\"]:\n",
    "    catalog[feature] = catalog.availability.apply(lambda x: feature in x).astype(int)\n",
    "catalog.drop(columns=[\"availability\", \"attributes\"], inplace=True)\n",
    "\n",
    "catalog.duration += 5"
   ]
  },
  {
   "cell_type": "markdown",
   "metadata": {},
   "source": [
    "# Transactions"
   ]
  },
  {
   "cell_type": "code",
   "execution_count": null,
   "metadata": {},
   "outputs": [],
   "source": [
    "transactions = pd.read_csv(\n",
    "    os.path.join(DATA_PATH, 'transactions.csv'),\n",
    "    dtype={\n",
    "        'element_uid': np.uint16,\n",
    "        'user_uid': np.uint32,\n",
    "        'consumption_mode': 'category',\n",
    "        'ts': np.float64,\n",
    "        'watched_time': np.uint64,\n",
    "        'device_type': np.uint8,\n",
    "        'device_manufacturer': np.uint8\n",
    "    }\n",
    ")"
   ]
  },
  {
   "cell_type": "code",
   "execution_count": null,
   "metadata": {},
   "outputs": [],
   "source": [
    "transactions.watched_time = transactions.watched_time / 60\n",
    "transactions = transactions.merge(catalog, left_on=\"element_uid\", right_index=True, how=\"left\")\n",
    "\n",
    "transactions[\"percent_watched\"] = transactions.watched_time / transactions.duration"
   ]
  },
  {
   "cell_type": "markdown",
   "metadata": {},
   "source": [
    "# Bookmarks"
   ]
  },
  {
   "cell_type": "code",
   "execution_count": null,
   "metadata": {},
   "outputs": [],
   "source": [
    "bookmarks = pd.read_csv(\n",
    "    os.path.join(DATA_PATH, 'bookmarks.csv'),\n",
    "    dtype={\n",
    "        'element_uid': np.uint16,\n",
    "        'user_uid': np.uint32,\n",
    "        'ts': np.float64\n",
    "    }\n",
    ")"
   ]
  },
  {
   "cell_type": "code",
   "execution_count": null,
   "metadata": {},
   "outputs": [],
   "source": [
    "bookmarks = bookmarks.merge(catalog, left_on=\"element_uid\", right_index=True, how=\"left\")\n",
    "bookmarks[\"consumption_mode\"] = \"B\"\n",
    "bookmarks[\"percent_watched\"] = 0.5\n",
    "bookmarks[\"label\"] = -1"
   ]
  },
  {
   "cell_type": "markdown",
   "metadata": {},
   "source": [
    "# Ratings"
   ]
  },
  {
   "cell_type": "code",
   "execution_count": null,
   "metadata": {},
   "outputs": [],
   "source": [
    "ratings = pd.read_csv(\n",
    "    os.path.join(DATA_PATH, 'ratings.csv'),\n",
    "    dtype={\n",
    "        'element_uid': np.uint16,\n",
    "        'user_uid': np.uint32,\n",
    "        'ts': np.float64,\n",
    "        'rating': np.uint8\n",
    "    }\n",
    ")"
   ]
  },
  {
   "cell_type": "code",
   "execution_count": null,
   "metadata": {},
   "outputs": [],
   "source": [
    "ratings[[\"user_uid\", \"element_uid\", \"ts\", \"rating\"]].to_pickle(\"ratings.pkl\")"
   ]
  },
  {
   "cell_type": "code",
   "execution_count": null,
   "metadata": {},
   "outputs": [],
   "source": [
    "ratings = ratings.merge(catalog, left_on=\"element_uid\", right_index=True, how=\"left\")\n",
    "ratings[\"consumption_mode\"] = \"R\"\n",
    "# ratings = ratings[ratings.rating > 4]\n",
    "ratings[\"percent_watched\"] = (ratings.rating + 2) / 10\n",
    "ratings[\"label\"] = 1\n",
    "ratings.drop(columns=[\"rating\"], inplace=True)"
   ]
  },
  {
   "cell_type": "markdown",
   "metadata": {},
   "source": [
    "transactions intersect bookmarks 240k times"
   ]
  },
  {
   "cell_type": "markdown",
   "metadata": {},
   "source": [
    "# prepare label"
   ]
  },
  {
   "cell_type": "markdown",
   "metadata": {},
   "source": [
    "Некоторые фильмы пользователь мог посмотреть несколько раз. <br>\n",
    "Неизвестно сколько серий в каждом из сериалов и частей в многосерийном фильме."
   ]
  },
  {
   "cell_type": "code",
   "execution_count": null,
   "metadata": {},
   "outputs": [],
   "source": [
    "transactions.percent_watched[transactions.type == \"movie\"] = \\\n",
    "transactions.percent_watched[transactions.type == \"movie\"].clip(0, 4)\n",
    "\n",
    "series_q75 = transactions[(transactions.type == \"series\") & \\\n",
    "             (transactions.duration != 1)].groupby(\"element_uid\")[\"percent_watched\"].quantile(0.5)\n",
    "series_q75 = dict(series_q75)\n",
    "def func(x):\n",
    "    return min(x.percent_watched / series_q75[x.element_uid], 1)\n",
    "transactions.loc[(transactions.type == \"series\"), [\"percent_watched\"]] = \\\n",
    "transactions.loc[(transactions.type == \"series\"), [\"percent_watched\", \"element_uid\"]].apply(func, axis=1)\n",
    "\n",
    "multipart_q75 = transactions[(transactions.type == \\\n",
    "                              \"multipart_movie\")].groupby(\"element_uid\")[\"percent_watched\"].quantile(0.2)\n",
    "\n",
    "def func(x):\n",
    "    return min(x.percent_watched / multipart_q75[x.element_uid], 1)\n",
    "transactions.loc[(transactions.type == \"multipart_movie\"), [\"percent_watched\"]] = \\\n",
    "transactions.loc[(transactions.type == \"multipart_movie\"), [\"percent_watched\", \"element_uid\"]].apply(func, axis=1)"
   ]
  },
  {
   "cell_type": "markdown",
   "metadata": {},
   "source": [
    "Пользователь потребил контент если он\n",
    "- Посмотрел больше половины фильма\n",
    "- Больше трети сериала\n",
    "- Купил или взял в аренду"
   ]
  },
  {
   "cell_type": "code",
   "execution_count": null,
   "metadata": {},
   "outputs": [],
   "source": [
    "transactions[\"first\"] = transactions.consumption_mode.isin([\"P\", \"R\"])\n",
    "transactions[\"second\"] = (transactions.percent_watched > 0.5) & (transactions.type != \"series\")\n",
    "transactions[\"third\"] = (transactions.percent_watched > 1/3) & (transactions.type == \"series\")\n",
    "transactions[\"label\"] = (transactions[\"first\"] | transactions.second | transactions.third).astype(int)\n",
    "print(transactions.label.mean())\n",
    "transactions.drop(columns=[\"first\", \"second\", \"third\"], inplace=True)"
   ]
  },
  {
   "cell_type": "markdown",
   "metadata": {},
   "source": [
    "Объединим все интерекции"
   ]
  },
  {
   "cell_type": "code",
   "execution_count": null,
   "metadata": {
    "scrolled": true
   },
   "outputs": [],
   "source": [
    "transactions = transactions.append(bookmarks)\n",
    "transactions = transactions.append(ratings)"
   ]
  },
  {
   "cell_type": "markdown",
   "metadata": {},
   "source": [
    "Составим агрегированный рейтинг"
   ]
  },
  {
   "cell_type": "code",
   "execution_count": null,
   "metadata": {},
   "outputs": [],
   "source": [
    "transactions[\"rating\"] = 0\n",
    "transactions.rating.loc[transactions.type == \"movie\"] = \\\n",
    "transactions.percent_watched.loc[transactions.type == \"movie\"] * 5\n",
    "\n",
    "transactions.rating.loc[transactions.type == \"multipart_movie\"] = \\\n",
    "transactions.percent_watched.loc[transactions.type == \"multipart_movie\"] * 5\n",
    "\n",
    "transactions.rating.loc[transactions.type == \"series\"] = \\\n",
    "transactions.percent_watched.loc[transactions.type == \"series\"] * 10\n",
    "\n",
    "transactions.loc[transactions.consumption_mode.isin([\"P\", \"R\"]), [\"rating\"]] = 15"
   ]
  },
  {
   "cell_type": "markdown",
   "metadata": {},
   "source": [
    "Выкинем из выборки неактивных пользователей"
   ]
  },
  {
   "cell_type": "code",
   "execution_count": null,
   "metadata": {},
   "outputs": [],
   "source": [
    "user_cnt = transactions.user_uid.value_counts()\n",
    "user_good = list(user_cnt[user_cnt >= 3].index)\n",
    "transactions = transactions[transactions.user_uid.isin(user_good)]\n",
    "len(user_cnt), len(user_good)"
   ]
  },
  {
   "cell_type": "code",
   "execution_count": null,
   "metadata": {},
   "outputs": [],
   "source": [
    "transactions.set_index([\"element_uid\", \"user_uid\"], inplace=True)\n",
    "\n",
    "transactions = transactions[[\"device_type\", \"device_manufacturer\", \"feature_1\", \"feature_2\", \"feature_3\",\n",
    "                             \"feature_4\", \"feature_5\", \"type\", \"purchase\", \"rent\", \"subscription\", \"label\",\n",
    "                            \"rating\", \"ts\"]]"
   ]
  },
  {
   "cell_type": "code",
   "execution_count": null,
   "metadata": {},
   "outputs": [],
   "source": [
    "transactions.to_pickle(os.path.join(DATA_PATH, \"transactions.pkl\"))"
   ]
  },
  {
   "cell_type": "markdown",
   "metadata": {},
   "source": [
    "Сохраним транзакции для оставшихся в выборке пользователей"
   ]
  },
  {
   "cell_type": "code",
   "execution_count": null,
   "metadata": {},
   "outputs": [],
   "source": [
    "bookmarks[bookmarks.user_uid.isin(user_good)][[\"user_uid\",\n",
    "                                               \"element_uid\",\n",
    "                                               \"ts\"]].to_pickle(os.path.join(DATA_PATH, \"bookmarks.pkl\"))"
   ]
  }
 ],
 "metadata": {
  "kernelspec": {
   "display_name": "Python 3",
   "language": "python",
   "name": "python3"
  },
  "language_info": {
   "codemirror_mode": {
    "name": "ipython",
    "version": 3
   },
   "file_extension": ".py",
   "mimetype": "text/x-python",
   "name": "python",
   "nbconvert_exporter": "python",
   "pygments_lexer": "ipython3",
   "version": "3.5.2"
  }
 },
 "nbformat": 4,
 "nbformat_minor": 2
}
